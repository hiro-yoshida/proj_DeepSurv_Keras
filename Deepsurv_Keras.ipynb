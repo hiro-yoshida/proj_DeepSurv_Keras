{
 "cells": [
  {
   "cell_type": "markdown",
   "metadata": {
    "colab_type": "text",
    "id": "XteNBjW5bdtC"
   },
   "source": [
    "## Deepsurv on Keras 2.x"
   ]
  },
  {
   "cell_type": "markdown",
   "metadata": {
    "colab_type": "text",
    "id": "zS1rpkJjFsNs"
   },
   "source": [
    "### Mount google drive"
   ]
  },
  {
   "cell_type": "code",
   "execution_count": 17,
   "metadata": {
    "colab": {
     "base_uri": "https://localhost:8080/",
     "height": 104
    },
    "colab_type": "code",
    "executionInfo": {
     "elapsed": 25296,
     "status": "ok",
     "timestamp": 1534152450591,
     "user": {
      "displayName": "Hiro Yoshida",
      "photoUrl": "//lh4.googleusercontent.com/-gtVInoWAJdc/AAAAAAAAAAI/AAAAAAAABoY/vk8kCXbGH60/s50-c-k-no/photo.jpg",
      "userId": "110361589374417077041"
     },
     "user_tz": 240
    },
    "id": "y7_fGt6JFLla",
    "outputId": "97388bac-037c-4443-c7d1-32382a6539a6"
   },
   "outputs": [
    {
     "name": "stdout",
     "output_type": "stream",
     "text": [
      "Please, open the following URL in a web browser: https://accounts.google.com/o/oauth2/auth?client_id=32555940559.apps.googleusercontent.com&redirect_uri=urn%3Aietf%3Awg%3Aoauth%3A2.0%3Aoob&scope=https%3A%2F%2Fwww.googleapis.com%2Fauth%2Fdrive&response_type=code&access_type=offline&approval_prompt=force\n",
      "··········\n",
      "Please, open the following URL in a web browser: https://accounts.google.com/o/oauth2/auth?client_id=32555940559.apps.googleusercontent.com&redirect_uri=urn%3Aietf%3Awg%3Aoauth%3A2.0%3Aoob&scope=https%3A%2F%2Fwww.googleapis.com%2Fauth%2Fdrive&response_type=code&access_type=offline&approval_prompt=force\n",
      "Please enter the verification code: Access token retrieved correctly.\n"
     ]
    }
   ],
   "source": [
    "# google-drive-ocamlfuseのインストール\n",
    "# https://github.com/astrada/google-drive-ocamlfuse\n",
    "!apt-get install -y -qq software-properties-common python-software-properties module-init-tools\n",
    "!add-apt-repository -y ppa:alessandro-strada/ppa 2>&1 > /dev/null\n",
    "!apt-get update -qq 2>&1 > /dev/null\n",
    "!apt-get -y install -qq google-drive-ocamlfuse fuse\n",
    "\n",
    "# Colab用のAuth token作成\n",
    "from google.colab import auth\n",
    "auth.authenticate_user()\n",
    "\n",
    "# Drive FUSE library用のcredential生成\n",
    "from oauth2client.client import GoogleCredentials\n",
    "creds = GoogleCredentials.get_application_default()\n",
    "import getpass\n",
    "!google-drive-ocamlfuse -headless -id={creds.client_id} -secret={creds.client_secret} < /dev/null 2>&1 | grep URL\n",
    "vcode = getpass.getpass()\n",
    "!echo {vcode} | google-drive-ocamlfuse -headless -id={creds.client_id} -secret={creds.client_secret}\n",
    "\n",
    "# drive/ を作り、そこにGoogle Driveをマウントする\n",
    "!mkdir -p drive\n",
    "!google-drive-ocamlfuse drive"
   ]
  },
  {
   "cell_type": "code",
   "execution_count": 19,
   "metadata": {
    "colab": {
     "base_uri": "https://localhost:8080/",
     "height": 117
    },
    "colab_type": "code",
    "executionInfo": {
     "elapsed": 2572,
     "status": "ok",
     "timestamp": 1534152492952,
     "user": {
      "displayName": "Hiro Yoshida",
      "photoUrl": "//lh4.googleusercontent.com/-gtVInoWAJdc/AAAAAAAAAAI/AAAAAAAABoY/vk8kCXbGH60/s50-c-k-no/photo.jpg",
      "userId": "110361589374417077041"
     },
     "user_tz": 240
    },
    "id": "JVoOoVr3FRtR",
    "outputId": "fdba921d-f216-4bc5-9211-b4aa235f1832"
   },
   "outputs": [
    {
     "name": "stdout",
     "output_type": "stream",
     "text": [
      "total 32\n",
      "drwxr-xr-x 1 root root 4096 Aug 13 09:27 datalab\n",
      "-rw-r--r-- 1 root root 1209 Aug 13 09:27 deepsurv_keras.py\n",
      "drwxr-xr-x 2 root root 4096 Aug 13 09:27 drive\n",
      "-rw-r--r-- 1 root root 2969 Aug 13 09:18 Survival_Keras_lifelineExample.py\n",
      "-rw-r--r-- 1 root root 2969 Aug 13 09:16 Survival_Keras_lifelineExample.py.1\n"
     ]
    }
   ],
   "source": [
    "!ls -l\n",
    "!cp drive/Colab/deepsurv_keras.py ."
   ]
  },
  {
   "cell_type": "markdown",
   "metadata": {
    "colab_type": "text",
    "id": "AQvNRqQhFzc_"
   },
   "source": [
    "### Import packages"
   ]
  },
  {
   "cell_type": "code",
   "execution_count": 23,
   "metadata": {
    "colab": {
     "base_uri": "https://localhost:8080/",
     "height": 221
    },
    "colab_type": "code",
    "executionInfo": {
     "elapsed": 2895,
     "status": "ok",
     "timestamp": 1534152604840,
     "user": {
      "displayName": "Hiro Yoshida",
      "photoUrl": "//lh4.googleusercontent.com/-gtVInoWAJdc/AAAAAAAAAAI/AAAAAAAABoY/vk8kCXbGH60/s50-c-k-no/photo.jpg",
      "userId": "110361589374417077041"
     },
     "user_tz": 240
    },
    "id": "pPEjQT7ucKFc",
    "outputId": "c904fbc9-d5f3-40b6-80de-ba396f721f8f"
   },
   "outputs": [
    {
     "name": "stdout",
     "output_type": "stream",
     "text": [
      "Collecting lifelines\n",
      "\u001b[?25l  Downloading https://files.pythonhosted.org/packages/31/3f/77a61cf860048a32d32b16c305094ad65708b92d7387cd9397b1d0eeae92/lifelines-0.14.6-py2.py3-none-any.whl (218kB)\n",
      "\u001b[K    100% |████████████████████████████████| 225kB 4.3MB/s \n",
      "\u001b[?25hRequirement already satisfied: pandas>=0.18 in /usr/local/lib/python3.6/dist-packages (from lifelines) (0.22.0)\n",
      "Requirement already satisfied: scipy in /usr/local/lib/python3.6/dist-packages (from lifelines) (0.19.1)\n",
      "Requirement already satisfied: numpy in /usr/local/lib/python3.6/dist-packages (from lifelines) (1.14.5)\n",
      "Requirement already satisfied: pytz>=2011k in /usr/local/lib/python3.6/dist-packages (from pandas>=0.18->lifelines) (2018.5)\n",
      "Requirement already satisfied: python-dateutil>=2 in /usr/local/lib/python3.6/dist-packages (from pandas>=0.18->lifelines) (2.5.3)\n",
      "Requirement already satisfied: six>=1.5 in /usr/local/lib/python3.6/dist-packages (from python-dateutil>=2->pandas>=0.18->lifelines) (1.11.0)\n",
      "Installing collected packages: lifelines\n",
      "Successfully installed lifelines-0.14.6\n"
     ]
    }
   ],
   "source": [
    "!pip install lifelines"
   ]
  },
  {
   "cell_type": "code",
   "execution_count": null,
   "metadata": {
    "colab": {},
    "colab_type": "code",
    "id": "AyK9Li3FqgvD"
   },
   "outputs": [],
   "source": [
    "!rm -f deepsurv_keras.py\n",
    "!wget -q https://www.dropbox.com/s/3f19vyaumogbogr/deepsurv_keras.py"
   ]
  },
  {
   "cell_type": "code",
   "execution_count": 6,
   "metadata": {
    "colab": {},
    "colab_type": "code",
    "id": "OItrsCcMbdtD"
   },
   "outputs": [],
   "source": [
    "# Survival Analysis using Keras\n",
    "import numpy as np\n",
    "\n",
    "from keras.optimizers import SGD, RMSprop\n",
    "\n",
    "from lifelines.utils import concordance_index\n",
    "from lifelines import CoxPHFitter\n",
    "from lifelines.datasets import load_rossi\n",
    "\n",
    "from sklearn.cross_validation import train_test_split\n",
    "from sklearn import preprocessing\n",
    "\n",
    "import deepsurv_keras"
   ]
  },
  {
   "cell_type": "markdown",
   "metadata": {
    "colab_type": "text",
    "id": "lz7S0vIdbdtM"
   },
   "source": [
    "### Load Rossi dataset"
   ]
  },
  {
   "cell_type": "code",
   "execution_count": 2,
   "metadata": {
    "colab": {},
    "colab_type": "code",
    "id": "M9qMZ6CubdtN"
   },
   "outputs": [],
   "source": [
    "rossi_dataset = load_rossi()\n",
    "E = np.array(rossi_dataset[\"arrest\"])\n",
    "Y = np.array(rossi_dataset[\"week\"])\n",
    "X = np.array(rossi_dataset)\n",
    "X = X.astype('float64')\n",
    "X = X[:, 2:]\n",
    "\n",
    "X_train, X_val, Y_train, Y_val = train_test_split(X, Y, test_size=0.25, random_state=0)\n",
    "X_train, X_val, E_train, E_val = train_test_split(X, E, test_size=0.25, random_state=0)\n",
    "\n",
    "# Standardize\n",
    "scaler = preprocessing.StandardScaler().fit(X_train[:, [1, 6]])\n",
    "X_train[:, [1, 6]] = scaler.transform(X_train[:, [1, 6]])\n",
    "X_val[:, [1, 6]] = scaler.transform(X_val[:, [1, 6]])\n",
    "\n",
    "# Sorting for NNL!\n",
    "sort_idx = np.argsort(Y_train)[::-1]\n",
    "X_train = X_train[sort_idx]\n",
    "Y_train = Y_train[sort_idx]\n",
    "E_train = E_train[sort_idx]"
   ]
  },
  {
   "cell_type": "markdown",
   "metadata": {
    "colab_type": "text",
    "id": "lviy7KL9bdtR"
   },
   "source": [
    "### Build and train DeepSurv on Keras 2.x"
   ]
  },
  {
   "cell_type": "code",
   "execution_count": 3,
   "metadata": {
    "colab": {},
    "colab_type": "code",
    "id": "6PAUUHGYbdtT"
   },
   "outputs": [],
   "source": [
    "model = deepsurv_keras.build_model()\n",
    "\n",
    "sgd = SGD(lr=1e-5, decay=0.01, momentum=0.9, nesterov=True)\n",
    "rmsprop = RMSprop(lr=1e-5, rho=0.9, epsilon=1e-8)\n",
    "model.compile(loss=deepsurv_keras.negative_log_likelihood(E_train), optimizer=sgd, metrics=['accuracy'])"
   ]
  },
  {
   "cell_type": "code",
   "execution_count": 4,
   "metadata": {
    "colab": {
     "base_uri": "https://localhost:8080/",
     "height": 327
    },
    "colab_type": "code",
    "executionInfo": {
     "elapsed": 6340,
     "status": "ok",
     "timestamp": 1534153506952,
     "user": {
      "displayName": "Hiro Yoshida",
      "photoUrl": "//lh4.googleusercontent.com/-gtVInoWAJdc/AAAAAAAAAAI/AAAAAAAABoY/vk8kCXbGH60/s50-c-k-no/photo.jpg",
      "userId": "110361589374417077041"
     },
     "user_tz": 240
    },
    "id": "-O7xK3EubdtX",
    "outputId": "532218ae-6806-4fd9-871a-c72a1f9865b0"
   },
   "outputs": [
    {
     "name": "stdout",
     "output_type": "stream",
     "text": [
      "Training...\n"
     ]
    },
    {
     "data": {
      "text/plain": [
       "Text(0,0.5,'loss')"
      ]
     },
     "execution_count": 4,
     "metadata": {},
     "output_type": "execute_result"
    },
    {
     "data": {
      "image/png": "[encoded data removed]",
      "text/plain": [
       "<Figure size 432x288 with 1 Axes>"
      ]
     },
     "metadata": {},
     "output_type": "display_data"
    }
   ],
   "source": [
    "print('Training...')\n",
    "history = model.fit(X_train, Y_train, batch_size=324, epochs=1000, shuffle=False, verbose=False)  # Shuffle False --> Important!!\n",
    "\n",
    "%matplotlib inline\n",
    "import matplotlib.pyplot as plt\n",
    "\n",
    "plt.plot(history.history['loss'])\n",
    "plt.title('model loss')\n",
    "plt.xlabel('epoch')\n",
    "plt.ylabel('loss')"
   ]
  },
  {
   "cell_type": "markdown",
   "metadata": {
    "colab_type": "text",
    "id": "qMv-3AZObdte"
   },
   "source": [
    "### Testing"
   ]
  },
  {
   "cell_type": "code",
   "execution_count": 5,
   "metadata": {
    "colab": {
     "base_uri": "https://localhost:8080/",
     "height": 301
    },
    "colab_type": "code",
    "executionInfo": {
     "elapsed": 478,
     "status": "ok",
     "timestamp": 1534153581752,
     "user": {
      "displayName": "Hiro Yoshida",
      "photoUrl": "//lh4.googleusercontent.com/-gtVInoWAJdc/AAAAAAAAAAI/AAAAAAAABoY/vk8kCXbGH60/s50-c-k-no/photo.jpg",
      "userId": "110361589374417077041"
     },
     "user_tz": 240
    },
    "id": "Frq_IQBSbdth",
    "outputId": "b592fe9c-efc3-4890-9c84-c657bcda43b8"
   },
   "outputs": [
    {
     "name": "stdout",
     "output_type": "stream",
     "text": [
      "Concordance Index for training dataset: 0.5557752680719208\n",
      "Concordance Index for test dataset: 0.6258156606851549\n",
      "n=432, number of events=114\n",
      "\n",
      "        coef  exp(coef)  se(coef)       z      p  lower 0.95  upper 0.95    \n",
      "fin  -0.3794     0.6843    0.1914 -1.9826 0.0474     -0.7545     -0.0043   *\n",
      "age  -0.0574     0.9442    0.0220 -2.6109 0.0090     -0.1006     -0.0143  **\n",
      "race  0.3139     1.3688    0.3080  1.0192 0.3081     -0.2898      0.9176    \n",
      "wexp -0.1498     0.8609    0.2122 -0.7058 0.4803     -0.5657      0.2662    \n",
      "mar  -0.4337     0.6481    0.3819 -1.1357 0.2561     -1.1822      0.3147    \n",
      "paro -0.0849     0.9186    0.1958 -0.4336 0.6646     -0.4685      0.2988    \n",
      "prio  0.0915     1.0958    0.0286  3.1938 0.0014      0.0353      0.1476  **\n",
      "---\n",
      "Signif. codes:  0 '***' 0.001 '**' 0.01 '*' 0.05 '.' 0.1 ' ' 1 \n",
      "\n",
      "Concordance = 0.640\n",
      "Likelihood ratio test = 33.266 on 7 df, p=0.00002\n"
     ]
    }
   ],
   "source": [
    "hr_pred = model.predict(X_train)\n",
    "hr_pred = np.exp(hr_pred)\n",
    "ci = concordance_index(Y_train, -hr_pred, E_train)\n",
    "\n",
    "hr_pred2 = model.predict(X_val)\n",
    "hr_pred2 = np.exp(hr_pred2)\n",
    "ci2 = concordance_index(Y_val,-hr_pred2,E_val)\n",
    "print('Concordance Index for training dataset:', ci)\n",
    "print('Concordance Index for test dataset:', ci2)\n",
    "\n",
    "# Cox Fitting\n",
    "cf = CoxPHFitter()\n",
    "cf.fit(rossi_dataset, 'week', event_col='arrest')\n",
    "\n",
    "cf.print_summary()  # access the results using cf.summary"
   ]
  },
  {
   "cell_type": "code",
   "execution_count": null,
   "metadata": {},
   "outputs": [],
   "source": []
  }
 ],
 "metadata": {
  "accelerator": "GPU",
  "colab": {
   "collapsed_sections": [
    "AQvNRqQhFzc_",
    "lz7S0vIdbdtM",
    "lviy7KL9bdtR",
    "qMv-3AZObdte"
   ],
   "name": "Deepsurv_Keras.ipynb",
   "provenance": [],
   "version": "0.3.2"
  },
  "kernelspec": {
   "display_name": "Python 3",
   "language": "python",
   "name": "python3"
  },
  "language_info": {
   "codemirror_mode": {
    "name": "ipython",
    "version": 3
   },
   "file_extension": ".py",
   "mimetype": "text/x-python",
   "name": "python",
   "nbconvert_exporter": "python",
   "pygments_lexer": "ipython3",
   "version": "3.6.6"
  }
 },
 "nbformat": 4,
 "nbformat_minor": 2
}
